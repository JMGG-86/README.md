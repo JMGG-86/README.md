{
 "cells": [
  {
   "cell_type": "markdown",
   "id": "590f774b-d9e3-4558-a790-f423fbeb4ee7",
   "metadata": {},
   "source": [
    "# Data Science Tools and Ecosystem"
   ]
  },
  {
   "cell_type": "markdown",
   "id": "8c74acbc-56cb-4389-bb94-d54f8f12b8fe",
   "metadata": {},
   "source": [
    "In this notebook, Data Science Tools and Ecosystem are summarized."
   ]
  },
  {
   "cell_type": "markdown",
   "id": "80358b44-b534-4357-a6de-07af94324aa1",
   "metadata": {},
   "source": [
    "**Objetives:** <i>List popular languages for Data Science </i>\n",
    "<ul><li>Scala</li><li>Java</li><li>R</li><li>Python</li><li>SQL</li></ul>"
   ]
  },
  {
   "cell_type": "markdown",
   "id": "62058448-6b80-4e31-bd1f-c2b0bbd29e39",
   "metadata": {},
   "source": [
    "Some of the popular languages that Data Scientists use are:\n",
    "1. Python \n",
    "2. R \n",
    "3. SQL \n",
    "4. Java \n",
    "5. Julia \n",
    "6. Scala "
   ]
  },
  {
   "cell_type": "markdown",
   "id": "84896dae-71e2-4bb6-bac4-394495656bad",
   "metadata": {},
   "source": [
    "Some of the commonly used libraries used by Data Scientists include:"
   ]
  },
  {
   "cell_type": "markdown",
   "id": "1f9a6318-e4ba-4784-831a-8865bceabd38",
   "metadata": {},
   "source": [
    "Ordered list:\n",
    "1. NumPy \n",
    "2. Pandas \n",
    "3. Matplotlib \n",
    "4. Seaborn \n",
    "5. Tensorflow \n",
    "6. Keras "
   ]
  },
  {
   "cell_type": "markdown",
   "id": "e28671e1-6985-404d-aa7c-0fc4f013f4fa",
   "metadata": {},
   "source": [
    "|Data Science Tools|\n",
    "|-------|\n",
    "|GIT HUB|\n",
    "|GIT LAB|\n",
    "|BITBUCKET|"
   ]
  },
  {
   "cell_type": "markdown",
   "id": "c7d8a20e-263a-496d-9e09-13fae450dc10",
   "metadata": {},
   "source": [
    "### Below are a few examples of evaluating arithmetic expressions in Python"
   ]
  },
  {
   "cell_type": "markdown",
   "id": "aacaf59b-7af4-406a-b0fe-89426ba372c1",
   "metadata": {},
   "source": [
    "_This a simple arithmetic expression to mutiply then add integers_"
   ]
  },
  {
   "cell_type": "code",
   "execution_count": 32,
   "id": "410707d8-116d-4f17-94b8-ff895cfc4c08",
   "metadata": {},
   "outputs": [
    {
     "data": {
      "text/plain": [
       "17"
      ]
     },
     "execution_count": 32,
     "metadata": {},
     "output_type": "execute_result"
    }
   ],
   "source": [
    "(3*4)+5"
   ]
  },
  {
   "cell_type": "markdown",
   "id": "dd65cb5b-353b-4123-988d-bb4ce5b99f72",
   "metadata": {},
   "source": [
    "_This will convert 200 minutes to hours by diving by 60_"
   ]
  },
  {
   "cell_type": "code",
   "execution_count": 37,
   "id": "ad90408d-ee8f-495e-a5d5-5101588720f8",
   "metadata": {},
   "outputs": [
    {
     "data": {
      "text/plain": [
       "3.3333333333333335"
      ]
     },
     "execution_count": 37,
     "metadata": {},
     "output_type": "execute_result"
    }
   ],
   "source": [
    "200/60"
   ]
  },
  {
   "cell_type": "markdown",
   "id": "6b08e071-500d-41bc-a290-950cef6bdd85",
   "metadata": {},
   "source": [
    "## Author\n",
    "José María García Gómez"
   ]
  },
  {
   "cell_type": "code",
   "execution_count": null,
   "id": "32b96af6-1da9-49f8-a6ae-217f2d22761a",
   "metadata": {},
   "outputs": [],
   "source": []
  }
 ],
 "metadata": {
  "kernelspec": {
   "display_name": "Python [conda env:base] *",
   "language": "python",
   "name": "conda-base-py"
  },
  "language_info": {
   "codemirror_mode": {
    "name": "ipython",
    "version": 3
   },
   "file_extension": ".py",
   "mimetype": "text/x-python",
   "name": "python",
   "nbconvert_exporter": "python",
   "pygments_lexer": "ipython3",
   "version": "3.12.7"
  }
 },
 "nbformat": 4,
 "nbformat_minor": 5
}
